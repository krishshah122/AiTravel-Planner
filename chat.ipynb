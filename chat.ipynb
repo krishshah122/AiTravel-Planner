{
 "cells": [
  {
   "cell_type": "code",
   "execution_count": 3,
   "id": "38b70bbb",
   "metadata": {},
   "outputs": [],
   "source": [
    "from langchain_community.tools import ArxivQueryRun,WikipediaQueryRun\n",
    "from langchain_community.utilities import ArxivAPIWrapper,WikipediaAPIWrapper"
   ]
  },
  {
   "cell_type": "code",
   "execution_count": null,
   "id": "9cf9d1f9",
   "metadata": {},
   "outputs": [
    {
     "data": {
      "text/plain": [
       "\"Published: 2018-07-02\\nTitle: The Matrix Calculus You Need For Deep Learning\\nAuthors: Terence Parr, Jeremy Howard\\nSummary: This paper is an attempt to explain all the matrix calculus you need in order\\nto understand the training of deep neural networks. We assume no math knowledge\\nbeyond what you learned in calculus 1, and provide links to help you refresh\\nthe necessary math where needed. Note that you do not need to understand this\\nmaterial before you start learning to train and use deep learning in practice;\\nrather, this material is for those who are already familiar with the basics of\\nneural networks, and wish to deepen their understanding of the underlying math.\\nDon't worry if you get stuck at some point along the way---just go back and\\nreread the previous section, and try writing down and working through some\\nexamples. And if you're still stuck, we're happy to answer your questions in\\nthe Theory category at forums.fast.ai. Note: There is a reference section at\\nthe end of the paper summarizing all the key matrix calculus rules and\\nterminology discussed here. See related articles at http://explained.ai\\n\\nPublished: 2024-06-24\\nTitle: On maximizing the number of heads when you need to set aside at least one coin every round\\nAuthors: Wouter van Doorn\\nSummary: You play the following game: you start out with $n$ coins that all have\\nprobability $p$ to land heads. You toss all of them and you then need to set\\naside at least one of them, which will not be tossed again. Now you repeat the\\nprocess with the remaining coins. This continues (for at most $n$ rounds) until\\nall coins have been set aside. Your goal is to maximize the total number of\\nheads you end up with. In this paper we will prove that there exists a constant\\n$p_0 \\\\approx 0.5495021777642$ such that, if $p_0 < p \\\\le 1$ and the number of\\nremaining coins is large enough, then it is optimal to set aside exactly one\\ncoin every round, unless all coins landed heads. When $\\\\frac{1}{2} \\\\le p \\\\le\\np_0$, it is optimal to set aside exactly one coin every round, unless at most\\none coin came up tails. Let $v_{n,p}$ be the expected number of heads you\\nobtain when using the optimal strategy. We will show that $v_{n,p}$ is larger\\nthan or equal to $v_{n-1,p} + 1$ for all $n \\\\ge 3$ and all $p \\\\ge \\\\frac{1}{2}$.\\nWhen $p < \\\\frac{1}{2}$ there are infinitely many $n$ for which this inequality\\ndoes not hold. Finally, we will see that for every $p$ with $0 < p \\\\le 1$ the\\nsequence $n - v_{n,p}$ is convergent.\\n\\nPublished: 2024-08-29\\nTitle: PyCSP3: Modeling Combinatorial Constrained Problems in Python\\nAuthors: Christophe Lecoutre, Nicolas Szczepanski\\nSummary: In this document, we introduce PyCSP$3$, a Python library that allows us to\\nwrite models of combinatorial constrained problems in a declarative manner.\\nCurrently, with PyCSP$3$, you can write models of constraint satisfaction and\\noptimization problems. More specifically, you can build CSP (Constraint\\nSatisfaction Problem) and COP (Constraint Optimization Problem) models.\\nImportantly, there is a complete separation between the modeling and solving\\nphases: you write a model, you compile it (while providing some data) in order\\nto generate an XCSP$3$ instance (file), and you solve that problem instance by\\nmeans of a constraint solver. You can also directly pilot the solving procedure\\nin PyCSP$3$, possibly conducting an incremental solving strategy. In this\\ndocument, you will find all that you need to know about PyCSP$3$, with more\\nthan 50 illustrative models.\""
      ]
     },
     "execution_count": 4,
     "metadata": {},
     "output_type": "execute_result"
    }
   ],
   "source": [
    "arxivwrap=ArxivAPIWrapper(top_k_results=2,dox_content_chars_max=500)\n",
    "arxiv=ArxivQueryRun(api_wrappper=arxivwrap,description=\" Query arxiv papers\")"
   ]
  },
  {
   "cell_type": "code",
   "execution_count": 13,
   "id": "3d8ec218",
   "metadata": {},
   "outputs": [],
   "source": [
    "wikiwrap=WikipediaAPIWrapper(top_k_results=1,dox_content_chars_max=500)\n",
    "wiki=WikipediaQueryRun(api_wrapper=wikiwrap)\n"
   ]
  },
  {
   "cell_type": "code",
   "execution_count": 15,
   "id": "f411200b",
   "metadata": {},
   "outputs": [],
   "source": [
    "import os \n",
    "from dotenv import load_dotenv\n",
    "load_dotenv()\n",
    "os.environ[\"TAVILY_API_KEY\"]=os.getenv(\"TAVILY_API_KEY\")\n",
    "os.environ[\"GROQ_API_KEY\"]=os.getenv(\"GROQ_API_KEY\")\n"
   ]
  },
  {
   "cell_type": "code",
   "execution_count": 16,
   "id": "1e30121f",
   "metadata": {},
   "outputs": [],
   "source": [
    "from langchain_community.tools.tavily_search import TavilySearchResults\n",
    "tavily=TavilySearchResults()\n"
   ]
  },
  {
   "cell_type": "code",
   "execution_count": 51,
   "id": "84b53776",
   "metadata": {},
   "outputs": [],
   "source": [
    "tools=[arxiv,wiki,tavily]\n",
    "from langchain_groq import ChatGroq\n",
    "llm=ChatGroq(model=\"qwen-qwq-32b\",  max_tokens=300 )\n",
    "# llm.invoke('what is ai')\n",
    "llm_tool=llm.bind_tools(tools=tools)\n",
    "\n"
   ]
  },
  {
   "cell_type": "code",
   "execution_count": 47,
   "id": "5518282d",
   "metadata": {},
   "outputs": [],
   "source": [
    "from typing import TypedDict\n",
    "from langchain_core.messages import AnyMessage\n",
    "from typing import Annotated\n",
    "from langgraph.graph.message import add_messages\n"
   ]
  },
  {
   "cell_type": "code",
   "execution_count": 53,
   "id": "82ff975b",
   "metadata": {},
   "outputs": [],
   "source": [
    "class State(TypedDict):\n",
    "      messages:Annotated[list[AnyMessage],add_messages] \n",
    "from IPython.display import Image,display\n",
    "from langgraph.graph import StateGraph,START,END\n",
    "from langgraph.prebuilt import ToolNode\n",
    "from langgraph.prebuilt import tools_condition\n",
    "def tool_llm(state:State):\n",
    "      return {\"messages\":[llm_tool.invoke(state[\"messages\"])]}\n",
    "builder=StateGraph(State)\n",
    "builder.add_node(\"tool_llm\",tool_llm)\n",
    "builder.add_node(\"tools\",ToolNode(tools))\n",
    "builder.add_edge(START,\"tool_llm\")\n",
    "builder.add_conditional_edges(\"tool_llm\",tools_condition)\n",
    "builder.add_edge(\"tools\",\"tool_llm\")\n",
    "graph=builder.compile()\n"
   ]
  },
  {
   "cell_type": "code",
   "execution_count": 55,
   "id": "221c2ad2",
   "metadata": {},
   "outputs": [
    {
     "name": "stdout",
     "output_type": "stream",
     "text": [
      "================================\u001b[1m Human Message \u001b[0m=================================\n",
      "\n",
      "what is recent new of mumbai and what is latest research paper in ml\n",
      "==================================\u001b[1m Ai Message \u001b[0m==================================\n",
      "Tool Calls:\n",
      "  tavily_search_results_json (nwdg1a2c8)\n",
      " Call ID: nwdg1a2c8\n",
      "  Args:\n",
      "    query: recent news Mumbai\n",
      "  arxiv (achcdvy1x)\n",
      " Call ID: achcdvy1x\n",
      "  Args:\n",
      "    query: latest machine learning research papers\n",
      "=================================\u001b[1m Tool Message \u001b[0m=================================\n",
      "Name: tavily_search_results_json\n",
      "\n",
      "[{\"title\": \"Mumbai news today, latest Mumbai news - The Hindu\", \"url\": \"https://www.thehindu.com/news/cities/mumbai/\", \"content\": \"The Bombay High Court on Thursday (July 10, 2025) upheld the government decision to rehabilitate Dharavi redevelopment project affected people (PAP) on the salt pan land, dismissing the Public Interest Litigation (PIL) filed by a Mumbai-based lawyer and social activist. upheld the government decision to rehabilitate Dharavi redevelopment project affected people (PAP) on the salt pan land, dismissing the Public Interest Litigation (PIL) filed by a Mumbai-based lawyer and social activist.\\\") [...] ### Revised Maharashtra special public security Bill likely to be tabled in Assembly today\\n\\n26/11 Mumbai attack accused Tahawwur Hussain Rana being produced at a court, in New Delhi. File\\n\\n### Delhi court extends Mumbai terror attack accused Tahawwur Rana's judicial custody till August 13\\n\\n### Non-cognisable case being filed against Shiv Sena MLA in canteen worker assault incident: Police\\n\\nShiv Sena (Shinde faction) MLA Sanjay Gaikwad. File MLA Sanjay Gaikwad. File\\\") [...] ### Wanted drug producer deported to India from UAE, Mumbai police take his custody\\n\\n### At least eight injured as BEST bus rams into stationary truck in Mumbai\\n\\n### Mumbai’s Carnac Bridge renamed as Sindoor after Operation Sindoor\\n\\nThe new Carnac bridge which is renamed as Sindoor Bridge in honour of Operation Sindoor — the military operation launched against terror sites in Pakistan was inaugurated by CM Devendra Fadnavis on July 10, 2025. \\n\\n#### More stories from Mumbai\", \"score\": 0.73459625}, {\"title\": \"Mumbai - BBC News\", \"url\": \"https://www.bbc.com/news/topics/c78qwzq3ekwt\", \"content\": \"# Mumbai\\n\\nIndian police personnel detain a Marathi native activist taking part in a protest against alleged injustice against Marathi native people in Mumbai, India, 08 July 2025. She can be seen in an agitated state, being whisked away while speaking to a news channel microphone. \\n\\n## Row over language turns violent in India's richest state\\n\\nThe Maharashtra government has backtracked on a move to make Hindi mandatory in schools, but tensions continue. [...] Blue, yellow and brown snakes squirm in a bucket seized from a passenger at Mumbai airport on 1 June, 2025.\\n\\n## Indian man arrested with 47 venomous vipers in bag at Mumbai airport\\n\\nHe had spider-tailed horned vipers, Asian leaf turtles and Indonesian pit vipers in checked-in luggage.\\n\\nParsi museum\\n\\n## Of opium, fire temples, and sarees: A peek into the world of India's dwindling Parsis\\n\\nThe Alpaiwala Museum in Mumbai city traces the origins and history of the fast-dwindling Parsi community.\", \"score\": 0.6729558}, {\"title\": \"Mumbai News - Mid-day\", \"url\": \"https://www.mid-day.com/mumbai/\", \"content\": \"In a major anti-drug operation, Mumbai’s ANC seized narcotics worth over Rs 2.36 crore in Andheri West and arrested two suspects. The Azad Maidan Unit recovered charas, MD, and cash worth Rs 1.14 crore, while the Kandivali Unit seized heroin valued at Rs 1.22 crore.\\n\\n##### Poll\\n\\n###### Do you think millets are actually a healthy snack option?\\n\\n##### Quiz\\n\\n###### Who is the best actor to play Spider-Man?\\n\\nADVERTISEMENT\\n\\nfooter-logo\\ngoogle follow icon\\ntwitter\\n\\n#### Mumbai\\n\\n#### News [...] On Wednesday and Thursday, based on specific intelligence, Customs officers at Chhatrapati Shivaji Maharaj International Airport (CSMI), Mumbai, intercepted a passenger arriving from Malaysia. During the operation, officers recovered 5.024 kg of suspected Hydroponic Weed (Marijuana), with an estimated illicit market value of approximately Rs 5,024\\n\\nMumbai: Two held for providing bank accounts to international cybercriminals [...] Stalin D, who represents the NGO Vanashakti, told mid-day that he had first lodged a complaint in February 2022. He had written to the municipal corporation, SGNP director, environment secretary, Mumbai Suburban collector, and the Maharashtra Pollution Control Board (MPCB), reporting activities such as tree felling, vegetation clearance\\n\\nTyre marks, bumps greet vehicles on newly opened Sindoor Bridge in South Mumbai\", \"score\": 0.57952}, {\"title\": \"Mumbai News - The Indian Express\", \"url\": \"https://indianexpress.com/section/cities/mumbai/\", \"content\": \"### ‘Can’t ignore preservation concerns as Mumbai grows’: HC directs MMRCL to restore heritage feature of JN Petit Institute\\n\\nSanjay Gaikwad\\n\\n### MLA hostel row: Mumbai police register non-cognizable complaint against Shiv Sena MLA Sanjay Gaikwad\\n\\nclassroom\\n\\n### Mumbai civic body school teacher molests Class 6 girl ‘for talking in class’, booked\\n\\nByculla Y bridge construction in progress (Express Photo by Akash Patil) [...] ### NIA nabs eleventh accused in ISIS Pune sleeper module case\\n\\ndevendra Fadnavis on loudspeakers\\n\\n### 3,367 loudspeakers removed from religious places across Maharashtra: CM Devendra Fadnavis\\n\\nMumbai rail\\n\\n### Two more trains on anvil on Mumbai Metro’s lines 2A and 7 as ridership reaches 3 lakh daily\\n\\nMaharashtra Industries Minister Uday Samant (Express Photo)\\n\\n### High level committee will be formed to probe corruption charges related to Kanjurmarg dumping ground: Minister Uday Samant [...] ### Bombay HC sets aside Maha Govt’s decision to prohibit levying of convenience fees on online movie tickets\\n\\nThe Ukrainian accused, Igor, was actively involved in the Torres fraud schemes' operations.\\n\\n### Torres investment ‘scam’: Key gang member traced to Ukraine, Mumbai police start extradition process\\n\\nSindoor bridge\\n\\n### Sindoor Bridge opened for public | Sigh of relief for commuters: ‘Cut travel time by half an hour’\", \"score\": 0.57637566}, {\"title\": \"Mumbai News, Mumbai Latest News, Mumbai breaking ... - Mid-day\", \"url\": \"https://www.mid-day.com/Mumbai/\", \"content\": \"## Trending News:\\n\\nMumbai Lake Levels\\n\\nADVERTISEMENT\\n\\n##### Top Stories\\n\\nWho Was Virginia Giuffre? Trump, Epstein & The Woman Who Spoke Out\\n\\n###### Who Was Virginia Giuffre? Trump, Epstein & The Woman Who Spoke Out\\n\\nMaharashtra records 7 cases of Covid-19; no deaths \\n\\n###### Maharashtra records 7 cases of Covid-19; no deaths\\n\\nShiv Sena minister's 'cash bag' video goes viral, says 'there were only clothes'\\n\\n###### Shiv Sena minister's 'cash bag' video goes viral, says 'there were only clothes' [...] Latest Updates\\nWebstories\\nShot Video\\n\\nToday's E-Paper\\n\\nMid-Day\\nHappiest Places to Work\\nWebstories\\n\\nWeb Stories\\n\\nE-Papaer\\n\\nE-Paper\\n\\nMid-day Gujarati\\n\\nInquilab\\n\\nMid-day Hindi\\n\\nMid-Day\\nHappiest Place to Work\\nWeb Story\\nE-Paper\\nLatest Updates\\nLatest News\\nshots\\nshot-button\\nMumbai Lake Levels\\n\\n# In Focus\\n\\ngoogle follow icon\\ntwitter\\n\\n## 'Maratha Military Landscapes' inscribed on UNESCO World Heritage List\\n\\n'Maratha Military Landscapes' inscribed on UNESCO World Heritage List\\n\\n## Trending News: [...] {{inTextShotsData.article\\\\_homepage\\\\_headline}}\\n\\nClick to read\\n\\n{{inTextShotsModal.category\\\\_name}}\\n\\n{{inTextShotsModal.article\\\\_homepage\\\\_headline}}\\n\\nRead article\\n\\n{{inTextShotsModal.key\\\\_highlights1}}\\n\\nRead article\\n\\n{{inTextShotsModal.key\\\\_highlights2}}\\n\\nRead article\\n\\n{{inTextShotsModal.key\\\\_highlights3}}\\n\\nRead article\\n\\nPrevious Article\\n\\nNext Article\\n\\n## Photo Gallery\\n\\n{{photogallery.image_caption}}\\n\\n### {{photogallery.Homeheadline}}\\n\\n{{photogallery2.image_caption}}\", \"score\": 0.5735118}]\n",
      "=================================\u001b[1m Tool Message \u001b[0m=================================\n",
      "Name: arxiv\n",
      "\n",
      "Published: 2024-12-11\n",
      "Title: A Survey of Open-Source Power System Dynamic Simulators with Grid-Forming Inverter for Machine Learning Applications\n",
      "Authors: Tong Su, Jiangkai Peng, Alaa Selim, Junbo Zhao, Jin Tan\n",
      "Summary: The emergence of grid-forming (GFM) inverter technology and the increasing\n",
      "role of machine learning in power systems highlight the need for evaluating the\n",
      "latest dynamic simulators. Open-source simulators offer distinct advantages in\n",
      "this field, being both free and highly customizable, which makes them\n",
      "well-suited for scientific research and validation of the latest models and\n",
      "methods. This paper provides a comprehensive survey and comparison of the\n",
      "latest open-source simulators that support GFM, with a focus on their\n",
      "capabilities and performance in machine-learning applications.\n",
      "\n",
      "Published: 2022-02-21\n",
      "Title: Human-in-the-loop Machine Learning: A Macro-Micro Perspective\n",
      "Authors: Jiangtao Wang, Bin Guo, Liming Chen\n",
      "Summary: Though technical advance of artificial intelligence and machine learning has\n",
      "enabled many promising intelligent systems, many computing tasks are still not\n",
      "able to be fully accomplished by machine intelligence. Motivated by the\n",
      "complementary nature of human and machine intelligence, an emerging trend is to\n",
      "involve humans in the loop of machine learning and decision-making. In this\n",
      "paper, we provide a macro-micro review of human-in-the-loop machine learning.\n",
      "We first describe major machine learning challenges which can be addressed by\n",
      "human intervention in the loop. Then we examine closely the latest research and\n",
      "findings of introducing humans into each step of the lifecycle of machine\n",
      "learning. Finally, we analyze current research gaps and point out future\n",
      "research directions.\n",
      "\n",
      "Published: 2021-09-02\n",
      "Title: Brief View and Analysis to Latest Android Security Issues and Approaches\n",
      "Authors: Ruicong Huang\n",
      "Summary: Due to the continuous improvement of performance and functions, Android\n",
      "remains the most popular operating system on mobile phone today. However,\n",
      "various malicious applications bring great threats to the system. Over the past\n",
      "few years, significant changes occured in both malwares and counter measures.\n",
      "Specifically, malwares are continuously evolving, and advanced approaches are\n",
      "adopted for more accurate detection. To keep up with the latest situation, in\n",
      "this paper, we conduct a wide range of analysis, including latest malwares,\n",
      "Android security features, and approaches. We also provide some finding when we\n",
      "are gathering information and carrying on experiments, which we think is useful\n",
      "for further researches and has not been mentioned in previous works.\n",
      "==================================\u001b[1m Ai Message \u001b[0m==================================\n"
     ]
    }
   ],
   "source": [
    "messages=graph.invoke({\"messages\":\"what is recent new of mumbai and what is latest research paper in ml\"})\n",
    "for m in messages['messages']:\n",
    "    m.pretty_print()"
   ]
  },
  {
   "cell_type": "code",
   "execution_count": null,
   "id": "7e6cbfb2",
   "metadata": {},
   "outputs": [],
   "source": []
  }
 ],
 "metadata": {
  "kernelspec": {
   "display_name": "Python 3",
   "language": "python",
   "name": "python3"
  },
  "language_info": {
   "codemirror_mode": {
    "name": "ipython",
    "version": 3
   },
   "file_extension": ".py",
   "mimetype": "text/x-python",
   "name": "python",
   "nbconvert_exporter": "python",
   "pygments_lexer": "ipython3",
   "version": "3.10.0"
  }
 },
 "nbformat": 4,
 "nbformat_minor": 5
}
